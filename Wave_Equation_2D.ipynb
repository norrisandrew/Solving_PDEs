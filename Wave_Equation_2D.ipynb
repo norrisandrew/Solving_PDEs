{
 "cells": [
  {
   "cell_type": "markdown",
   "metadata": {},
   "source": [
    "### Wave equation in two dimensions\n",
    "Our goal is to compute and visualize solutions $u(x,y,t)$ of the wave equation $$u_{tt}=c^2 \\Delta u$$ with $\\Delta u =u_{xx}+u_{yy}$ on the square $(x,y)\\in[0,L]\\times[0,L]$ with initial conditions $u(x,y,0)=f(x,y)$ and $u_t(x,y,0)=g(x,y)$. Our code will allow us to use Dirichlet, Neumann, or periodic boundary conditions. [Linked here is a movie of light rain falling in a pond](https://youtu.be/d1GSHAMpNYo). We first load the necessary Python modules."
   ]
  },
  {
   "cell_type": "code",
   "execution_count": 4,
   "metadata": {},
   "outputs": [
    {
     "name": "stdout",
     "output_type": "stream",
     "text": [
      "Warning: Cannot change to a different GUI toolkit: notebook. Using widget instead.\n"
     ]
    }
   ],
   "source": [
    "%matplotlib widget\n",
    "import numpy as np\n",
    "import matplotlib.cm as cm\n",
    "import matplotlib.pyplot as plt\n",
    "import matplotlib.animation as animation\n",
    "import matplotlib.colors as colors\n",
    "from matplotlib.colors import LightSource"
   ]
  },
  {
   "cell_type": "markdown",
   "metadata": {},
   "source": [
    "Next, we define the following functions:\n",
    "* `discrete_laplacian` provides a centered finite-difference approximation of the Laplace operator $\\Delta u =u_{xx}+u_{yy}$;\n",
    "* `leapfrog` implements the leapfrog method to evolve the solution in time. Leapfrog takes advantage of the fact that the wave equation contains second-order derivatives in time; \n",
    "* `define_initial_condition` uses the given initial conditions to compute the first two solution iterates;\n",
    "* `update_solution` uses the leapfrog method applied to the time derivative $u_{tt}$ to update the solution to the next time step;\n",
    "* `update_graph` animates the solution."
   ]
  },
  {
   "cell_type": "code",
   "execution_count": 5,
   "metadata": {},
   "outputs": [],
   "source": [
    "def discrete_laplacian(u, bdy):\n",
    "    if bdy == 'Periodic':\n",
    "        L = -4*u\n",
    "        L += np.roll(u, (0,-1), (0,1))\n",
    "        L += np.roll(u, (0,+1), (0,1))\n",
    "        L += np.roll(u, (-1,0), (0,1))\n",
    "        L += np.roll(u, (+1,0), (0,1))\n",
    "        return L\n",
    "    elif bdy == 'Dirichlet':\n",
    "        v = np.pad(u, 1, constant_values=0)\n",
    "    elif bdy == 'Neumann':\n",
    "        v = np.pad(u, 1, mode='edge')\n",
    "    L = -4*v\n",
    "    L += np.roll(v, (0,-1), (0,1))\n",
    "    L += np.roll(v, (0,+1), (0,1))\n",
    "    L += np.roll(v, (-1,0), (0,1))\n",
    "    L += np.roll(v, (+1,0), (0,1))\n",
    "    L = L[1:-1,1:-1]\n",
    "    return L\n",
    "\n",
    "def leapfrog(u0, um, cfl, bdy):\n",
    "    up = 2*u0 - um + cfl**2*discrete_laplacian(u0, bdy)\n",
    "    return up, u0\n",
    "\n",
    "def define_initial_condition(f, g, dt, bdy):\n",
    "    u0 = f + 0.5*cfl**2*discrete_laplacian(f, bdy) + dt*g\n",
    "    return u0, f\n",
    "\n",
    "def update_solution(f, g, cfl, dt, bdy, Nframes, Nskip):\n",
    "    n = 0\n",
    "    u0, um = define_initial_condition(f, g, dt, bdy)\n",
    "    while n<Nframes:\n",
    "        n += 1\n",
    "        for k in range(Nskip):\n",
    "            u0, um = leapfrog(u0, um, cfl, bdy)\n",
    "        yield u0\n",
    "\n",
    "def update_graph(u, ls, imu):\n",
    "    imu.set_array(ls.hillshade(u))"
   ]
  },
  {
   "cell_type": "markdown",
   "metadata": {},
   "source": [
    "In the next cell, we define the speed constant $c>0$, set the initial conditions $u(x,0)=f(x)$ and $u_t(x,0)=g(x)$, and run the animation of the solution."
   ]
  },
  {
   "cell_type": "code",
   "execution_count": 15,
   "metadata": {},
   "outputs": [
    {
     "data": {
      "application/vnd.jupyter.widget-view+json": {
       "model_id": "1dc9d7a401764e96962a9d329cb9cf4e",
       "version_major": 2,
       "version_minor": 0
      },
      "text/plain": [
       "Canvas(toolbar=Toolbar(toolitems=[('Home', 'Reset original view', 'home', 'home'), ('Back', 'Back to previous …"
      ]
     },
     "metadata": {},
     "output_type": "display_data"
    }
   ],
   "source": [
    "# model parameter\n",
    "c = 1       # speed constant\n",
    "L = 30      # domain length\n",
    "\n",
    "# numerical parameters\n",
    "N = 800    # grid size\n",
    "\n",
    "# define a function that simulates a raindrop\n",
    "def pebble(X, Y, width, positionX, positionY):\n",
    "    r = width*np.sqrt((X-positionX)**2 + (Y-positionY)**2)\n",
    "    u = np.random.uniform(-1., 1., 1)*np.cos(1.9*r)/np.cosh(r)\n",
    "    return u\n",
    "\n",
    "x = np.linspace(0, L, N)\n",
    "X, Y = np.meshgrid(x, x)\n",
    "\n",
    "# initial displacement consists of three separate raindrops \n",
    "f =  pebble(X, Y, 3.5, 0.35*L, 0.5*L)\n",
    "f += pebble(X, Y, 3, 0.6*L, 0.6*L)\n",
    "f += pebble(X, Y, 4, 0.7*L, 0.2*L)\n",
    "\n",
    "# initial velocity is zero\n",
    "g = np.zeros((N,N))\n",
    "\n",
    "# animation parameters\n",
    "Nsteps = 400\n",
    "Nskip = 10\n",
    "\n",
    "# set time step to satisfy leapfrog stability criterion (cfl < 1/sqrt(2) ~ 0.7)\n",
    "cfl = 0.6\n",
    "dx = L/N\n",
    "dt = cfl * dx / c\n",
    "\n",
    "# compute and animate solution\n",
    "Nframes = int(Nsteps/Nskip)\n",
    "extent = [0, L, 0, L]\n",
    "\n",
    "fig, ax = plt.subplots(1,1,figsize=(5,5))\n",
    "ls = LightSource(azdeg=220, altdeg=70)\n",
    "imu = ax.imshow(ls.hillshade(f), cmap='Greys', animated=True, extent=extent, origin='lower')\n",
    "ani = animation.FuncAnimation(fig, update_graph,\n",
    "                              update_solution(f, g, cfl, dt, 'Neumann', Nframes, Nskip),\n",
    "                              fargs=(ls, imu), repeat=False)\n",
    "plt.tight_layout()\n",
    "plt.show()"
   ]
  },
  {
   "cell_type": "code",
   "execution_count": null,
   "metadata": {},
   "outputs": [],
   "source": []
  }
 ],
 "metadata": {
  "kernelspec": {
   "display_name": "Python 3",
   "language": "python",
   "name": "python3"
  },
  "language_info": {
   "codemirror_mode": {
    "name": "ipython",
    "version": 3
   },
   "file_extension": ".py",
   "mimetype": "text/x-python",
   "name": "python",
   "nbconvert_exporter": "python",
   "pygments_lexer": "ipython3",
   "version": "3.7.9"
  },
  "widgets": {
   "application/vnd.jupyter.widget-state+json": {
    "state": {},
    "version_major": 2,
    "version_minor": 0
   }
  }
 },
 "nbformat": 4,
 "nbformat_minor": 4
}
