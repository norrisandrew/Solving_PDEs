{
  "nbformat": 4,
  "nbformat_minor": 0,
  "metadata": {
    "colab": {
      "name": "MaterialsProject-1.ipynb",
      "private_outputs": true,
      "provenance": [],
      "collapsed_sections": [],
      "include_colab_link": true
    },
    "kernelspec": {
      "name": "python3",
      "display_name": "Python 3"
    },
    "language_info": {
      "name": "python"
    }
  },
  "cells": [
    {
      "cell_type": "markdown",
      "metadata": {
        "id": "view-in-github",
        "colab_type": "text"
      },
      "source": [
        "<a href=\"https://colab.research.google.com/github/norrisandrew/Solving_PDEs/blob/main/MaterialsProject_1.ipynb\" target=\"_parent\"><img src=\"https://colab.research.google.com/assets/colab-badge.svg\" alt=\"Open In Colab\"/></a>"
      ]
    },
    {
      "cell_type": "code",
      "source": [
        "import numpy as np, scipy as sp, matplotlib.pyplot as plt\n",
        "import xlrd, csv      # for read to .xls, read/write to csv\n",
        "from sklearn.model_selection import train_test_split    # machine learning library\n",
        "from sklearn import datasets\n",
        "import sklearn.linear_model\n",
        "import sklearn.neighbors"
      ],
      "metadata": {
        "id": "SymFLRzBxStC"
      },
      "execution_count": null,
      "outputs": []
    },
    {
      "cell_type": "code",
      "execution_count": null,
      "metadata": {
        "id": "SVtGDQmvromE"
      },
      "outputs": [],
      "source": [
        "!pip install pymatgen==2022.0.17 # <-------------- EXTREMELY IMPORTANT"
      ]
    },
    {
      "cell_type": "code",
      "source": [
        "from pymatgen.ext.matproj import MPRester\n",
        "from pymatgen.core import Composition\n",
        "import re\n",
        "import pprint"
      ],
      "metadata": {
        "id": "ip4G4pVixa9I"
      },
      "execution_count": null,
      "outputs": []
    },
    {
      "cell_type": "code",
      "source": [
        "# Make sure that you have the Materials API key. Put the key in the call to\n",
        "# MPRester if needed, e.g, MPRester(\"MY_API_KEY\")\n",
        "mpr = MPRester(\"iR6z9LivAfSmJ0Zdd\")"
      ],
      "metadata": {
        "id": "_UBw4nsu7KSo"
      },
      "execution_count": null,
      "outputs": []
    },
    {
      "cell_type": "code",
      "source": [
        "elastic_data = mpr.query({\"elasticity\": {\"$exists\": True}},              # all the elastic data with materials ids, see http://matgenb.materialsvirtuallab.org/2017/03/02/Getting-data-from-Materials-Project.html\n",
        "                         properties=[\"task_id\", \"pretty_formula\", \"elasticity\", \"elastic_tensor\",\"structure\"])"
      ],
      "metadata": {
        "id": "EFV0MLnH7xhF"
      },
      "execution_count": null,
      "outputs": []
    },
    {
      "cell_type": "code",
      "source": [
        "print(len(elastic_data))\n",
        "pprint.pprint(elastic_data[1])\n"
      ],
      "metadata": {
        "id": "LltjBh8H78Su"
      },
      "execution_count": null,
      "outputs": []
    },
    {
      "cell_type": "code",
      "source": [
        "pprint.pprint(elastic_data[0][\"pretty_formula\"])\n",
        "pprint.pprint(elastic_data[0][\"elasticity\"][\"elastic_tensor\"])\n",
        "struct = (elastic_data[0][\"structure\"])\n",
        "from pymatgen.symmetry.analyzer import SpacegroupAnalyzer\n",
        "finder = SpacegroupAnalyzer(struct)\n",
        "finder.get_crystal_system() \n",
        "finder.get_lattice_type() \n",
        "finder.get_space_group_number() "
      ],
      "metadata": {
        "id": "J1YQ-gkRIfXI"
      },
      "execution_count": null,
      "outputs": []
    },
    {
      "cell_type": "code",
      "source": [
        "import pandas as pd\n",
        "r_array = []\n",
        "l1_array = []\n",
        "l2_array = []\n",
        "l3_array = []\n",
        "l4_array = []\n",
        "l5_array = []\n",
        "l6_array = []\n",
        "length_elastic_data = len(elastic_data)\n",
        "\n",
        "for i in range(length_elastic_data):\n",
        "        r_array.append(elastic_data[i][\"pretty_formula\"])\n",
        "        l1_array.append(elastic_data[i][\"elasticity\"][\"elastic_tensor\"][0])\n",
        "        l2_array.append(elastic_data[i][\"elasticity\"][\"elastic_tensor\"][1])\n",
        "        l3_array.append(elastic_data[i][\"elasticity\"][\"elastic_tensor\"][2])\n",
        "        l4_array.append(elastic_data[i][\"elasticity\"][\"elastic_tensor\"][3])\n",
        "        l5_array.append(elastic_data[i][\"elasticity\"][\"elastic_tensor\"][4])\n",
        "        l6_array.append(elastic_data[i][\"elasticity\"][\"elastic_tensor\"][5])\n",
        "\n",
        "Data = {'Formula': r_array, 'Elastic moduli row 1': l1_array, 'Row 2': l2_array, 'Row 3': l3_array, 'Row 4': l4_array, 'Row 5': l5_array, 'Row 6': l6_array}\n",
        "\n",
        "DATA = pd.DataFrame(Data)"
      ],
      "metadata": {
        "id": "MKta0RfIks0j"
      },
      "execution_count": null,
      "outputs": []
    },
    {
      "cell_type": "code",
      "source": [
        "DATA.head(3)"
      ],
      "metadata": {
        "id": "WMPFROgpxVgQ"
      },
      "execution_count": null,
      "outputs": []
    },
    {
      "cell_type": "markdown",
      "source": [
        "# Now compute the cubic elastic moduli for each of the 13k or so materials in the elastic data."
      ],
      "metadata": {
        "id": "0exbKS6HbgSM"
      }
    },
    {
      "cell_type": "code",
      "source": [
        "form_list = [] # formula\n",
        "k_list  = []   # kappa\n",
        "m1_list = []   # shear modulus 1\n",
        "m2_list = []   # shear modulus 2\n",
        "m_list  = []   # shear modulus of iso\n",
        "dc_list = []   # relative distance from cubic approximation\n",
        "di_list = []   # relative distance from isotropic approximation\n",
        "\n",
        "for i in range(length_elastic_data):\n",
        "  C = np.array( elastic_data[i][\"elasticity\"][\"elastic_tensor\"] )      # converts list to array\n",
        "  CdotH  = C[0,0]+C[1,1]+C[2,2]\n",
        "  Cdot3J = CdotH + 2*(C[0,1]+C[1,2]+C[0,2])\n",
        "  CdotI  = 2*np.trace(C) - CdotH \n",
        "  kap = Cdot3J/9                 # kappa or bulk modulus\n",
        "  mu1 = (CdotI - CdotH)/6        # mu1 which is the same as mu in DOI: 10.1121/1.2173525\n",
        "  mu2 = CdotH/4 - Cdot3J/12      # mu2 which is the same as eta \n",
        "  mu = (3*mu1+2*mu2)/5           #  isotropic mu\n",
        "\n",
        "  C11 = kap + mu2*4/3   # cubic C11\n",
        "  C12 = kap - mu2*2/3   # cubic C12\n",
        "  C66 = mu1             # cubic C66\n",
        "  C_cub = np.array( [ [C11,C12,C12,0,0,0], [C12,C11,C12,0,0,0], [C12,C12,C11,0,0,0], [0,0,0,C66,0,0], [0,0,0,0,C66,0], [0,0,0,0,0,C66] ])   # the cubic approximation of C\n",
        "  C11 = kap + mu*4/3    # isotropic C11\n",
        "  C12 = kap - mu*2/3    # isotropic C12\n",
        "  C66 = mu              # isotropic C66\n",
        "  C_iso = np.array( [ [C11,C12,C12,0,0,0], [C12,C11,C12,0,0,0], [C12,C12,C11,0,0,0], [0,0,0,C66,0,0], [0,0,0,0,C66,0], [0,0,0,0,0,C66] ])   # the isotopic approximation of C\n",
        "\n",
        "  C_mag    = np.linalg.norm(C,2)     #   norm(C,2) is the same as norm(C)\n",
        "  dist_cub = np.linalg.norm(C - C_cub)/C_mag    #  the relative distance of C_cub from C, in an L2 sense\n",
        "  dist_iso = np.linalg.norm(C - C_iso)/C_mag    #  the relative distance of C_iso from C, in an L2 sense\n",
        "  \n",
        "  if dist_cub < 1:\n",
        "    form_list.append(elastic_data[i][\"pretty_formula\"])\n",
        "    k_list.append( kap )\n",
        "    m1_list.append( mu1 )\n",
        "    m2_list.append( mu2 )\n",
        "    dc_list.append( dist_cub )\n",
        "    m_list.append( mu )\n",
        "    di_list.append( dist_iso )\n",
        "                   \n",
        "Cubic_data = {'Formula': form_list, 'kappa': k_list, 'mu1': m1_list, 'mu2': m2_list,  'mu': m_list, 'rel dist to cubic': dc_list, 'rel dist to isotropic': di_list}\n",
        "\n",
        "dc_list_sort = np.sort(dc_list)            # sort the distances\n",
        "di_list_sort = np.sort(di_list)            # sort the distances\n",
        "\n",
        "plt.plot( dc_list_sort )\n",
        "plt.ylabel('Relative distance to cubic')\n",
        "plt.grid(True)\n",
        "plt.show()\n",
        "\n",
        "print(C)\n",
        "if dist_cub < 1:\n",
        "  print(dist_cub)\n",
        "\n",
        "#print(di_list_sort[60:100] )\n",
        "\n",
        "#print(type(C))\n",
        "\n",
        "#d_len = len(di_list)\n",
        "\n",
        "#print(d_len, di_list_sort[d_len-1])\n"
      ],
      "metadata": {
        "id": "tEuuGObP_qeq"
      },
      "execution_count": null,
      "outputs": []
    },
    {
      "cell_type": "markdown",
      "source": [
        "The plot shows the \"distance to cubic\" for all 13000 materials.  A zero distance means it is actucally a cubic crystal.  A non-zero value means the crystal structure is more complicated.  A small distance means it is \"almost\" cubic, i.e. its properties canbe approximated by a cubic materia with the three elastic moduli: kap, mu1 and mu2"
      ],
      "metadata": {
        "id": "ALxDtGKA2rFb"
      }
    }
  ]
}