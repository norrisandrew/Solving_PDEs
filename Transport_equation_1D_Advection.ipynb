{
 "cells": [
  {
   "cell_type": "markdown",
   "metadata": {},
   "source": [
    "### Advection equation with space-dependent velocity function\n",
    "Our goal is to compute and visualize solutions of the advection or transport equation $$u_t+c(x)u_x=0$$ on the interval $[0,L]$ with periodic boundary conditions $u(0,t)=u(L,t)$ and $u_x(0,t)=u_x(L,t)$, which effectively places this equation on a circle of circumference $L$. First, we load the necessary Python modules."
   ]
  },
  {
   "cell_type": "code",
   "execution_count": 1,
   "metadata": {},
   "outputs": [],
   "source": [
    "%matplotlib widget\n",
    "import numpy as np\n",
    "import matplotlib.cm as cm\n",
    "import matplotlib.pyplot as plt\n",
    "import matplotlib.animation as animation\n",
    "import matplotlib.colors as colors\n",
    "from scipy.integrate import solve_ivp"
   ]
  },
  {
   "cell_type": "markdown",
   "metadata": {},
   "source": [
    "Next, we define the following functions:\n",
    "* `upwind_scheme` and `leapfrog` implement numerical schemes\n",
    "* `update_solution` uses the leapfrog method (initialized with an upwind scheme) to update the solution to the next time step;\n",
    "* `update_graph` animates the solution."
   ]
  },
  {
   "cell_type": "code",
   "execution_count": 2,
   "metadata": {},
   "outputs": [],
   "source": [
    "def upwind_scheme(u, V):\n",
    "    u += -(V*(V<=0)*(u-np.roll(u,+1)) + V*(V>0)*(np.roll(u,-1)-u))\n",
    "    return u\n",
    "\n",
    "def leapfrog(u0, um, V):\n",
    "    up = um - V*(np.roll(u0,-1) - np.roll(u0,+1))\n",
    "    return up, u0\n",
    "\n",
    "def update_solution(f, U, V, Nframes, Nskip):\n",
    "    n = 0\n",
    "    um = np.copy(f)\n",
    "    u0 = upwind_scheme(f, V)\n",
    "    U[0, :] = u0\n",
    "    while n<Nframes:\n",
    "        n += 1\n",
    "        for k in range(Nskip):\n",
    "            u0, um = leapfrog(u0, um, V)\n",
    "        U[n, :] = u0\n",
    "        yield u0\n",
    "\n",
    "def update_graph(u, x, line1):\n",
    "    line1.set_data(x, u)"
   ]
  },
  {
   "cell_type": "markdown",
   "metadata": {},
   "source": [
    "In the next cell, we define the wave speed function $c(x)$, set the initial condition, and run the animation of the solution."
   ]
  },
  {
   "cell_type": "code",
   "execution_count": 3,
   "metadata": {},
   "outputs": [
    {
     "data": {
      "application/vnd.jupyter.widget-view+json": {
       "model_id": "77f11606708e459f9b3d7d096d6f76c9",
       "version_major": 2,
       "version_minor": 0
      },
      "text/plain": [
       "Canvas(toolbar=Toolbar(toolitems=[('Home', 'Reset original view', 'home', 'home'), ('Back', 'Back to previous …"
      ]
     },
     "metadata": {},
     "output_type": "display_data"
    }
   ],
   "source": [
    "# model parameters\n",
    "L = 2*np.pi   # domain length \n",
    "\n",
    "def c(x):     # wave speed\n",
    "    return np.cos(x)\n",
    "\n",
    "# numerical parameters\n",
    "N = 500          # grid size\n",
    "\n",
    "# set initial condition\n",
    "x = np.linspace(0, L, N, endpoint=False)\n",
    "f = 1/np.cosh((x-3*np.pi/2)*5)\n",
    "f = 0.1+np.sin(x)\n",
    "\n",
    "# animation parameters\n",
    "Nsteps = 1800\n",
    "Nskip = 10\n",
    "\n",
    "# set time step to satisfy stability criterion (cfl<1)\n",
    "cfl = 0.2\n",
    "dx = L/N\n",
    "dt = cfl * dx / np.max(np.abs(c(x)))\n",
    "T = Nsteps*dt\n",
    "\n",
    "# compute and animate solution\n",
    "Nframes = int(Nsteps/Nskip)\n",
    "U = np.zeros((Nframes, N))\n",
    "C = dt * c(x) / dx\n",
    "\n",
    "fig = plt.figure()\n",
    "ax  = plt.axes(xlim=(0,L), ylim=(np.min(np.min(f)*1.1,0), np.max(np.max(f)*1.1,0)))\n",
    "line1, = ax.plot([], [], linewidth=2, color = \"tab:blue\")\n",
    "ax.set_xlabel('x')\n",
    "ax.set_ylabel('u')\n",
    "ani = animation.FuncAnimation(fig, update_graph,\n",
    "                              update_solution(f, U, C, Nframes, Nskip),\n",
    "                              fargs=(x, line1), interval=25, blit=False, repeat=False)\n",
    "plt.tight_layout()\n",
    "plt.show()"
   ]
  },
  {
   "cell_type": "markdown",
   "metadata": {},
   "source": [
    "Finally, we visualize the solution in a space-time contour plot and plot several characteristic curves."
   ]
  },
  {
   "cell_type": "code",
   "execution_count": 7,
   "metadata": {},
   "outputs": [
    {
     "data": {
      "application/vnd.jupyter.widget-view+json": {
       "model_id": "de1bcac82e9e4d8ea0d90cdc4e3f4c25",
       "version_major": 2,
       "version_minor": 0
      },
      "text/plain": [
       "Canvas(toolbar=Toolbar(toolitems=[('Home', 'Reset original view', 'home', 'home'), ('Back', 'Back to previous …"
      ]
     },
     "metadata": {},
     "output_type": "display_data"
    }
   ],
   "source": [
    "fig = plt.figure()\n",
    "extent = [0, L, 0, T]\n",
    "plt.imshow(U, cmap='Blues', interpolation='bilinear', extent=extent, aspect='auto', origin='lower')\n",
    "for x0 in np.linspace(0, L, 12):\n",
    "    soln = solve_ivp(lambda t, x: c(x), [0, T], [x0], t_eval=np.linspace(0, T, 100), atol=1.e-8, rtol=1.e-6)\n",
    "    chars = np.vstack((np.mod(soln.y[0], L), soln.t))\n",
    "    jumps = abs(np.diff(chars[0, :]))\n",
    "    chars = np.insert(chars, 1+np.where(jumps>L/2)[0], np.NaN, axis=1)\n",
    "    plt.plot(chars[0, :], chars[1, :], color='tab:red', alpha=0.3)\n",
    "plt.title('u(x,t)')\n",
    "plt.xlabel('x')\n",
    "plt.ylabel('t')\n",
    "plt.colorbar()\n",
    "plt.tight_layout()\n",
    "plt.show()"
   ]
  },
  {
   "cell_type": "code",
   "execution_count": null,
   "metadata": {},
   "outputs": [],
   "source": []
  }
 ],
 "metadata": {
  "kernelspec": {
   "display_name": "Python 3",
   "language": "python",
   "name": "python3"
  },
  "language_info": {
   "codemirror_mode": {
    "name": "ipython",
    "version": 3
   },
   "file_extension": ".py",
   "mimetype": "text/x-python",
   "name": "python",
   "nbconvert_exporter": "python",
   "pygments_lexer": "ipython3",
   "version": "3.7.9"
  },
  "widgets": {
   "application/vnd.jupyter.widget-state+json": {
    "state": {
     "0592d0f705e840ae90edbf165aaae9f0": {
      "model_module": "@jupyter-widgets/base",
      "model_module_version": "1.2.0",
      "model_name": "LayoutModel",
      "state": {}
     },
     "2efe9dbb5b834f39b464e9c8b66ee534": {
      "model_module": "@jupyter-widgets/base",
      "model_module_version": "1.2.0",
      "model_name": "LayoutModel",
      "state": {}
     },
     "512dd7d665334249bac4bfc3fec9c63e": {
      "model_module": "@jupyter-widgets/base",
      "model_module_version": "1.2.0",
      "model_name": "LayoutModel",
      "state": {}
     },
     "69f3e55121e1422989589a546f227303": {
      "model_module": "@jupyter-widgets/base",
      "model_module_version": "1.2.0",
      "model_name": "LayoutModel",
      "state": {}
     },
     "7687fb95155346bea73052299039748e": {
      "model_module": "jupyter-matplotlib",
      "model_module_version": "^0.7.4",
      "model_name": "ToolbarModel",
      "state": {
       "layout": "IPY_MODEL_0592d0f705e840ae90edbf165aaae9f0",
       "toolitems": [
        [
         "Home",
         "Reset original view",
         "home",
         "home"
        ],
        [
         "Back",
         "Back to previous view",
         "arrow-left",
         "back"
        ],
        [
         "Forward",
         "Forward to next view",
         "arrow-right",
         "forward"
        ],
        [
         "Pan",
         "Left button pans, Right button zooms\nx/y fixes axis, CTRL fixes aspect",
         "arrows",
         "pan"
        ],
        [
         "Zoom",
         "Zoom to rectangle\nx/y fixes axis, CTRL fixes aspect",
         "square-o",
         "zoom"
        ],
        [
         "Download",
         "Download plot",
         "floppy-o",
         "save_figure"
        ]
       ]
      }
     },
     "77f11606708e459f9b3d7d096d6f76c9": {
      "model_module": "jupyter-matplotlib",
      "model_module_version": "^0.7.4",
      "model_name": "MPLCanvasModel",
      "state": {
       "_cursor": "default",
       "_figure_label": "Figure 1",
       "_height": 480,
       "_image_mode": "diff",
       "_width": 640,
       "layout": "IPY_MODEL_69f3e55121e1422989589a546f227303",
       "toolbar": "IPY_MODEL_d0e01db50ddb4b6888d3086f6e73d642",
       "toolbar_position": "left"
      }
     },
     "781046b836eb4f909733ca87d2ded9a8": {
      "model_module": "jupyter-matplotlib",
      "model_module_version": "^0.7.4",
      "model_name": "ToolbarModel",
      "state": {
       "layout": "IPY_MODEL_c893d73c94a341418da983cd30cae1d4",
       "toolitems": [
        [
         "Home",
         "Reset original view",
         "home",
         "home"
        ],
        [
         "Back",
         "Back to previous view",
         "arrow-left",
         "back"
        ],
        [
         "Forward",
         "Forward to next view",
         "arrow-right",
         "forward"
        ],
        [
         "Pan",
         "Left button pans, Right button zooms\nx/y fixes axis, CTRL fixes aspect",
         "arrows",
         "pan"
        ],
        [
         "Zoom",
         "Zoom to rectangle\nx/y fixes axis, CTRL fixes aspect",
         "square-o",
         "zoom"
        ],
        [
         "Download",
         "Download plot",
         "floppy-o",
         "save_figure"
        ]
       ]
      }
     },
     "8b8633c520d84c71a001996968dcaa90": {
      "model_module": "jupyter-matplotlib",
      "model_module_version": "^0.7.4",
      "model_name": "ToolbarModel",
      "state": {
       "layout": "IPY_MODEL_2efe9dbb5b834f39b464e9c8b66ee534",
       "toolitems": [
        [
         "Home",
         "Reset original view",
         "home",
         "home"
        ],
        [
         "Back",
         "Back to previous view",
         "arrow-left",
         "back"
        ],
        [
         "Forward",
         "Forward to next view",
         "arrow-right",
         "forward"
        ],
        [
         "Pan",
         "Left button pans, Right button zooms\nx/y fixes axis, CTRL fixes aspect",
         "arrows",
         "pan"
        ],
        [
         "Zoom",
         "Zoom to rectangle\nx/y fixes axis, CTRL fixes aspect",
         "square-o",
         "zoom"
        ],
        [
         "Download",
         "Download plot",
         "floppy-o",
         "save_figure"
        ]
       ]
      }
     },
     "8f8c2ead862e44399dff5d6b719e80f9": {
      "model_module": "@jupyter-widgets/base",
      "model_module_version": "1.2.0",
      "model_name": "LayoutModel",
      "state": {}
     },
     "aa8ed089455b48a890263bbe79e18550": {
      "model_module": "@jupyter-widgets/base",
      "model_module_version": "1.2.0",
      "model_name": "LayoutModel",
      "state": {}
     },
     "b228a988a9404687af04f5c264cdc89b": {
      "model_module": "jupyter-matplotlib",
      "model_module_version": "^0.7.4",
      "model_name": "MPLCanvasModel",
      "state": {
       "layout": "IPY_MODEL_aa8ed089455b48a890263bbe79e18550",
       "toolbar": "IPY_MODEL_7687fb95155346bea73052299039748e",
       "toolbar_position": "left"
      }
     },
     "c893d73c94a341418da983cd30cae1d4": {
      "model_module": "@jupyter-widgets/base",
      "model_module_version": "1.2.0",
      "model_name": "LayoutModel",
      "state": {}
     },
     "d0e01db50ddb4b6888d3086f6e73d642": {
      "model_module": "jupyter-matplotlib",
      "model_module_version": "^0.7.4",
      "model_name": "ToolbarModel",
      "state": {
       "layout": "IPY_MODEL_e386c42f83a94000bdc7f912864744a4",
       "toolitems": [
        [
         "Home",
         "Reset original view",
         "home",
         "home"
        ],
        [
         "Back",
         "Back to previous view",
         "arrow-left",
         "back"
        ],
        [
         "Forward",
         "Forward to next view",
         "arrow-right",
         "forward"
        ],
        [
         "Pan",
         "Left button pans, Right button zooms\nx/y fixes axis, CTRL fixes aspect",
         "arrows",
         "pan"
        ],
        [
         "Zoom",
         "Zoom to rectangle\nx/y fixes axis, CTRL fixes aspect",
         "square-o",
         "zoom"
        ],
        [
         "Download",
         "Download plot",
         "floppy-o",
         "save_figure"
        ]
       ]
      }
     },
     "de1bcac82e9e4d8ea0d90cdc4e3f4c25": {
      "model_module": "jupyter-matplotlib",
      "model_module_version": "^0.7.4",
      "model_name": "MPLCanvasModel",
      "state": {
       "_cursor": "default",
       "_figure_label": "Figure 4",
       "_height": 480,
       "_width": 640,
       "layout": "IPY_MODEL_512dd7d665334249bac4bfc3fec9c63e",
       "toolbar": "IPY_MODEL_781046b836eb4f909733ca87d2ded9a8",
       "toolbar_position": "left"
      }
     },
     "e386c42f83a94000bdc7f912864744a4": {
      "model_module": "@jupyter-widgets/base",
      "model_module_version": "1.2.0",
      "model_name": "LayoutModel",
      "state": {}
     },
     "fe42900942d345b68e5082e41e0ce390": {
      "model_module": "jupyter-matplotlib",
      "model_module_version": "^0.7.4",
      "model_name": "MPLCanvasModel",
      "state": {
       "_cursor": "default",
       "_figure_label": "Figure 3",
       "_height": 480,
       "_image_mode": "diff",
       "_message": "x=0.703 y=2.224\n[−0.798]",
       "_width": 640,
       "layout": "IPY_MODEL_8f8c2ead862e44399dff5d6b719e80f9",
       "toolbar": "IPY_MODEL_8b8633c520d84c71a001996968dcaa90",
       "toolbar_position": "left"
      }
     }
    },
    "version_major": 2,
    "version_minor": 0
   }
  }
 },
 "nbformat": 4,
 "nbformat_minor": 4
}
